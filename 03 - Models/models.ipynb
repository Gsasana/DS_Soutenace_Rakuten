{
 "cells": [
  {
   "cell_type": "code",
   "execution_count": null,
   "metadata": {},
   "outputs": [],
   "source": [
    "# Suppression des avertissements\n",
    "import warnings\n",
    "warnings.simplefilter('ignore')\n",
    "\n",
    "\n",
    "import itertools\n",
    "import os\n",
    "\n",
    "# Modules de base\n",
    "import numpy as np\n",
    "import pandas as pd  \n",
    "import random\n",
    "import joblib\n",
    "from math import sqrt\n",
    "\n",
    "# Visualisation\n",
    "import matplotlib.pyplot as plt  \n",
    "\n",
    "# Stats et analyses statistiques\n",
    "import scipy.stats as stats  \n",
    "from scipy.stats import randint, uniform\n",
    "from statsmodels.tsa.statespace.sarimax import SARIMAX\n",
    "from statsmodels.tsa.seasonal import seasonal_decompose\n",
    "from statsmodels.graphics.tsaplots import plot_acf, plot_pacf\n",
    "from statsmodels.tsa.stattools import adfuller\n",
    "\n",
    "# Machine Learning et modèles de régression\n",
    "from sklearn.model_selection import train_test_split, GridSearchCV, RandomizedSearchCV\n",
    "from sklearn.preprocessing import StandardScaler\n",
    "from sklearn.ensemble import RandomForestRegressor\n",
    "from sklearn.tree import DecisionTreeRegressor\n",
    "from sklearn.linear_model import LinearRegression, Lasso, Ridge\n",
    "from sklearn.metrics import mean_absolute_error, r2_score, mean_squared_error\n",
    "from xgboost import XGBRegressor\n",
    "\n",
    "\n",
    "from tabulate import tabulate\n",
    "\n",
    "\n",
    "# Configuration du style de visualisation des graphiques avec un style personnalisé\n",
    "plt.style.use(\"https://github.com/dhaitz/matplotlib-stylesheets/raw/master/pitayasmoothie-dark.mplstyle\")\n",
    "# Configuration pour l'affichage des nombres à virgule flottante\n",
    "pd.options.display.float_format = '{:.4f}'.format"
   ]
  },
  {
   "cell_type": "code",
   "execution_count": null,
   "metadata": {},
   "outputs": [],
   "source": [
    "# Chargement des données\n",
    "df_entrainement = pd.read_csv(\"../00 - Annexes/data_prepro/donnees_entrainement_prepro.csv\")\n",
    "df_validation = pd.read_csv(\"../00 - Annexes/data_prepro/donnees_validation_prepro.csv\")\n",
    "\n",
    "# Sélection des colonnes à supprimer\n",
    "colonnes_a_supprimer = ['Prix', 'SKU', 'Timestamp', 'Annee', 'Mois', 'Jour', 'Heure', \n",
    "                        'Promotion', 'Categorie_Electronique', 'Categorie_Vetements', 'Categorie_Livres']\n",
    "X = df_entrainement.drop(columns=colonnes_a_supprimer)\n",
    "y = df_entrainement['Prix']\n",
    "\n",
    "# Conservation des identifiants dans l'ensemble d'entraînement\n",
    "train_identifiers = df_entrainement[['SKU', 'Timestamp']]\n",
    "\n",
    "# Division en ensembles d'entraînement et de test\n",
    "X_train, X_test, y_train, y_test = train_test_split(X, y, test_size=0.2, random_state=17)\n",
    "\n",
    "# Alignement des colonnes\n",
    "if X_train.columns.tolist() != X_test.columns.tolist():\n",
    "    X_test = X_test[X_train.columns]\n",
    "\n",
    "# Initialisation et ajustement du scaler sur X_train\n",
    "scaler = StandardScaler()\n",
    "X_train_scaled = scaler.fit_transform(X_train)\n",
    "X_test_scaled = scaler.transform(X_test)\n",
    "\n",
    "# Conservation des identifiants dans le jeu de validation\n",
    "validation_identifiers = df_validation[['SKU', 'Timestamp']].reset_index(drop=True)\n",
    "\n",
    "# Transformation du jeu de validation\n",
    "X_validation = df_validation.drop(columns=colonnes_a_supprimer)\n",
    "X_validation = X_validation[X_train.columns]\n",
    "X_validation_scaled = scaler.transform(X_validation)\n",
    "y_validation = df_validation['Prix'].values\n",
    "\n",
    "# Création du DataFrame final en incluant les identifiants\n",
    "validation_final = pd.DataFrame(X_validation_scaled, columns=X_train.columns)\n",
    "validation_final['Prix'] = y_validation\n",
    "validation_final['SKU'] = validation_identifiers['SKU']\n",
    "validation_final['Timestamp'] = validation_identifiers['Timestamp']\n",
    "\n",
    "# Réorganiser les colonnes si nécessaire\n",
    "validation_final = validation_final[['SKU', 'Timestamp'] + list(X_train.columns) + ['Prix']]\n",
    "\n",
    "# Sauvegarde du jeu de validation final\n",
    "validation_final.to_csv(\"../00 - Annexes/data_prepro/donnees_validation_scaled.csv\", index=False)\n"
   ]
  },
  {
   "cell_type": "code",
   "execution_count": 4,
   "metadata": {},
   "outputs": [
    {
     "data": {
      "text/plain": [
       "['../00 - Annexes/data_prepro/scaler.pkl']"
      ]
     },
     "execution_count": 4,
     "metadata": {},
     "output_type": "execute_result"
    }
   ],
   "source": [
    "# Sauvegarde du scaler\n",
    "joblib.dump(scaler, \"../00 - Annexes/data_prepro/scaler.pkl\")"
   ]
  },
  {
   "cell_type": "markdown",
   "metadata": {},
   "source": [
    "---------"
   ]
  },
  {
   "cell_type": "markdown",
   "metadata": {},
   "source": [
    "----------------------------------\n"
   ]
  },
  {
   "cell_type": "markdown",
   "metadata": {},
   "source": [
    "## 1. **Régression linéaire**"
   ]
  },
  {
   "cell_type": "code",
   "execution_count": 9,
   "metadata": {},
   "outputs": [
    {
     "name": "stdout",
     "output_type": "stream",
     "text": [
      "Métriques d'évaluation de la Régression Linéaire :\n",
      "RMSE : 22.7476\n",
      "MAE : 18.7583\n",
      "Coefficient de détermination R² : 0.9730\n"
     ]
    }
   ],
   "source": [
    "# Initialisation du modèle de Régression Linéaire\n",
    "model_lr = LinearRegression()\n",
    "\n",
    "# Entraînement du modèle\n",
    "model_lr.fit(X_train_scaled, y_train)\n",
    "\n",
    "# Prédictions sur l'ensemble de test\n",
    "y_pred_lr = model_lr.predict(X_test_scaled)\n",
    "\n",
    "# Évaluation des performances du modèle\n",
    "mse_lr = mean_squared_error(y_test, y_pred_lr)\n",
    "rmse_lr = np.sqrt(mse_lr)\n",
    "mae_lr = mean_absolute_error(y_test, y_pred_lr)\n",
    "r2_lr = r2_score(y_test, y_pred_lr)\n",
    "\n",
    "print('Métriques d\\'évaluation de la Régression Linéaire :')\n",
    "print(f'RMSE : {rmse_lr:.4f}')\n",
    "print(f'MAE : {mae_lr:.4f}')\n",
    "print(f'Coefficient de détermination R² : {r2_lr:.4f}')\n"
   ]
  },
  {
   "cell_type": "markdown",
   "metadata": {},
   "source": [
    "----------------------------"
   ]
  },
  {
   "cell_type": "markdown",
   "metadata": {},
   "source": [
    "## 2. **Random Forest**"
   ]
  },
  {
   "cell_type": "code",
   "execution_count": 10,
   "metadata": {},
   "outputs": [
    {
     "name": "stdout",
     "output_type": "stream",
     "text": [
      "Fitting 3 folds for each of 20 candidates, totalling 60 fits\n",
      "\n",
      "Métriques d'évaluation pour la Régression par Forêt Aléatoire :\n",
      "RMSE : 1.9460\n",
      "MAE : 0.9838\n",
      "Coefficient de détermination R² : 0.9998\n"
     ]
    }
   ],
   "source": [
    "# Définition des distributions de paramètres pour la recherche\n",
    "param_dist = {\n",
    "    'n_estimators': randint(50, 300),  \n",
    "    'max_features': ['sqrt', 'log2'],\n",
    "    'max_depth': randint(5, 50),  \n",
    "    'min_samples_split': randint(2, 10),\n",
    "    'min_samples_leaf': randint(1, 10),\n",
    "    'bootstrap': [True, False]\n",
    "}\n",
    "\n",
    "# Configuration de RandomizedSearchCV avec des paramètres optimisés\n",
    "model_rf = RandomizedSearchCV(\n",
    "    RandomForestRegressor(random_state=17),\n",
    "    param_distributions=param_dist,\n",
    "    n_iter=20,  # Réduction du nombre d'itérations\n",
    "    cv=3,  # Utilisation de la validation croisée à 3 plis\n",
    "    verbose=1,  \n",
    "    n_jobs=-1,  \n",
    "    random_state=17\n",
    ")\n",
    "\n",
    "# Entraînement du modèle\n",
    "model_rf.fit(X_train_scaled, y_train)\n",
    "\n",
    "# Prédictions sur l'ensemble de test\n",
    "y_pred_rf = model_rf.predict(X_test_scaled)\n",
    "\n",
    "# Évaluation des performances du modèle\n",
    "mse_rf = mean_squared_error(y_test, y_pred_rf)\n",
    "rmse_rf = np.sqrt(mse_rf)\n",
    "mae_rf = mean_absolute_error(y_test, y_pred_rf)\n",
    "r2_rf = r2_score(y_test, y_pred_rf)\n",
    "\n",
    "print('\\nMétriques d\\'évaluation pour la Régression par Forêt Aléatoire :')\n",
    "print(f'RMSE : {rmse_rf:.4f}')\n",
    "print(f'MAE : {mae_rf:.4f}')\n",
    "print(f'Coefficient de détermination R² : {r2_rf:.4f}')\n"
   ]
  },
  {
   "cell_type": "markdown",
   "metadata": {},
   "source": [
    "-----------------------------\n",
    "\n"
   ]
  },
  {
   "cell_type": "markdown",
   "metadata": {},
   "source": [
    "## 3. **XGBoost**"
   ]
  },
  {
   "cell_type": "code",
   "execution_count": 11,
   "metadata": {},
   "outputs": [
    {
     "name": "stdout",
     "output_type": "stream",
     "text": [
      "Fitting 3 folds for each of 20 candidates, totalling 60 fits\n",
      "\n",
      "Métriques d'évaluation pour la régression XGBoost :\n",
      "RMSE : 1.0000\n",
      "MAE : 0.6827\n",
      "Coefficient de détermination R² : 0.9999\n"
     ]
    }
   ],
   "source": [
    "# Définir la grille de recherche des hyperparamètres avec des plages optimisées\n",
    "param_dist = {\n",
    "    'n_estimators': randint(50, 300),  # Réduction de la plage pour alléger le calcul\n",
    "    'learning_rate': uniform(0.01, 0.2),  # Plage ajustée pour une exploration ciblée\n",
    "    'max_depth': randint(3, 7),  # Réduction de la profondeur maximale pour limiter la complexité\n",
    "    'subsample': uniform(0.6, 0.4),  # Ajustement pour réduire la variance\n",
    "    'colsample_bytree': uniform(0.6, 0.4),  # Plage réduite pour limiter la recherche\n",
    "    'gamma': uniform(0, 0.3)  # Réduction de la plage pour une exploration plus ciblée\n",
    "}\n",
    "\n",
    "# Configurer RandomizedSearchCV avec des paramètres optimisés pour les performances\n",
    "model_xgb = RandomizedSearchCV(\n",
    "    XGBRegressor(objective='reg:squarederror', random_state=17),\n",
    "    param_distributions=param_dist,\n",
    "    n_iter=20,  # Réduction du nombre d'itérations\n",
    "    cv=3,  # Utilisation de la validation croisée à 3 plis\n",
    "    verbose=1,  # Verbose réduit pour des informations modérées\n",
    "    n_jobs=-1,  # Utilisation de tous les cœurs disponibles pour accélérer\n",
    "    random_state=17\n",
    ")\n",
    "\n",
    "# Entraîner le modèle\n",
    "model_xgb.fit(X_train_scaled, y_train)\n",
    "\n",
    "# Faire des prédictions sur l'ensemble de test\n",
    "y_pred_xgb = model_xgb.predict(X_test_scaled)\n",
    "\n",
    "# Évaluer les performances du modèle\n",
    "mse_xgb = mean_squared_error(y_test, y_pred_xgb)\n",
    "rmse_xgb = np.sqrt(mse_xgb)\n",
    "mae_xgb = mean_absolute_error(y_test, y_pred_xgb)\n",
    "r2_xgb = r2_score(y_test, y_pred_xgb)\n",
    "\n",
    "print('\\nMétriques d\\'évaluation pour la régression XGBoost :')\n",
    "print(f'RMSE : {rmse_xgb:.4f}')\n",
    "print(f'MAE : {mae_xgb:.4f}')\n",
    "print(f'Coefficient de détermination R² : {r2_xgb:.4f}')\n"
   ]
  },
  {
   "cell_type": "markdown",
   "metadata": {},
   "source": [
    "--------------------------"
   ]
  },
  {
   "cell_type": "markdown",
   "metadata": {},
   "source": [
    "## 4. **Ridge Regression**"
   ]
  },
  {
   "cell_type": "code",
   "execution_count": 12,
   "metadata": {},
   "outputs": [
    {
     "name": "stdout",
     "output_type": "stream",
     "text": [
      "\n",
      "Métriques d'évaluation pour la régression Ridge :\n",
      "RMSE : 22.7477\n",
      "MAE : 18.7585\n",
      "Coefficient de détermination R² : 0.9730\n"
     ]
    }
   ],
   "source": [
    "# Initialisation du modèle de régression Ridge\n",
    "model_ridge = Ridge(\n",
    "    alpha=1.0,          \n",
    "    random_state=17\n",
    ")\n",
    "\n",
    "# Entraînement du modèle\n",
    "model_ridge.fit(X_train_scaled, y_train)\n",
    "\n",
    "# Prédictions sur l'ensemble de test\n",
    "y_pred_ridge = model_ridge.predict(X_test_scaled)\n",
    "\n",
    "# Évaluation des performances du modèle\n",
    "mse_ridge = mean_squared_error(y_test, y_pred_ridge)\n",
    "rmse_ridge = np.sqrt(mse_ridge)\n",
    "mae_ridge = mean_absolute_error(y_test, y_pred_ridge)\n",
    "r2_ridge = r2_score(y_test, y_pred_ridge)\n",
    "\n",
    "print('\\nMétriques d\\'évaluation pour la régression Ridge :')\n",
    "print(f'RMSE : {rmse_ridge:.4f}')\n",
    "print(f'MAE : {mae_ridge:.4f}')\n",
    "print(f'Coefficient de détermination R² : {r2_ridge:.4f}')\n"
   ]
  },
  {
   "cell_type": "markdown",
   "metadata": {},
   "source": [
    "----------------------------"
   ]
  },
  {
   "cell_type": "markdown",
   "metadata": {},
   "source": [
    "## 5. **Lasso Regression**"
   ]
  },
  {
   "cell_type": "code",
   "execution_count": 13,
   "metadata": {},
   "outputs": [
    {
     "name": "stdout",
     "output_type": "stream",
     "text": [
      "\n",
      "Métriques d'évaluation pour la régression Lasso :\n",
      "RMSE : 22.7474\n",
      "MAE : 18.7581\n",
      "Coefficient de détermination R² : 0.9730\n"
     ]
    }
   ],
   "source": [
    "# Initialisation du modèle de régression Lasso\n",
    "model_lasso = Lasso(\n",
    "    alpha=0.01,         \n",
    "    random_state=17\n",
    ")\n",
    "\n",
    "# Entraînement du modèle\n",
    "model_lasso.fit(X_train_scaled, y_train)\n",
    "\n",
    "# Prédictions sur l'ensemble de test\n",
    "y_pred_lasso = model_lasso.predict(X_test_scaled)\n",
    "\n",
    "# Évaluation des performances du modèle\n",
    "mse_lasso = mean_squared_error(y_test, y_pred_lasso)\n",
    "rmse_lasso = np.sqrt(mse_lasso)\n",
    "mae_lasso = mean_absolute_error(y_test, y_pred_lasso)\n",
    "r2_lasso = r2_score(y_test, y_pred_lasso)\n",
    "\n",
    "print('\\nMétriques d\\'évaluation pour la régression Lasso :')\n",
    "print(f'RMSE : {rmse_lasso:.4f}')\n",
    "print(f'MAE : {mae_lasso:.4f}')\n",
    "print(f'Coefficient de détermination R² : {r2_lasso:.4f}')\n"
   ]
  },
  {
   "cell_type": "markdown",
   "metadata": {},
   "source": [
    "------------------------"
   ]
  },
  {
   "cell_type": "markdown",
   "metadata": {},
   "source": [
    "## 6. **Decision Tree**"
   ]
  },
  {
   "cell_type": "code",
   "execution_count": 14,
   "metadata": {},
   "outputs": [
    {
     "name": "stdout",
     "output_type": "stream",
     "text": [
      "Fitting 3 folds for each of 12 candidates, totalling 36 fits\n",
      "\n",
      "Métriques d'évaluation pour la régression par arbre de décision :\n",
      "RMSE : 7.7922\n",
      "MAE : 4.2316\n",
      "Coefficient de détermination R² : 0.9968\n"
     ]
    }
   ],
   "source": [
    "# Définition des paramètres optimisés pour GridSearchCV\n",
    "param_grid = {\n",
    "    'max_depth': [3, 5, 7],  # Réduction des valeurs testées\n",
    "    'min_samples_split': [2, 5],  # Réduction du nombre de valeurs testées\n",
    "    'min_samples_leaf': [1, 2]  # Réduction du nombre de valeurs testées\n",
    "}\n",
    "\n",
    "# Configuration de GridSearchCV avec une validation croisée à 3 plis\n",
    "model_dt = GridSearchCV(\n",
    "    estimator=DecisionTreeRegressor(random_state=42),\n",
    "    param_grid=param_grid,\n",
    "    cv=3,  # Réduction à 3 plis pour diminuer la charge de calcul\n",
    "    n_jobs=-1,  # Utilisation de tous les cœurs disponibles pour accélérer\n",
    "    verbose=2\n",
    ")\n",
    "\n",
    "# Entraînement du modèle\n",
    "model_dt.fit(X_train_scaled, y_train)\n",
    "\n",
    "# Prédictions sur l'ensemble de test\n",
    "y_pred_dt = model_dt.predict(X_test_scaled)\n",
    "\n",
    "# Évaluation des performances du modèle\n",
    "mse_dt = mean_squared_error(y_test, y_pred_dt)\n",
    "rmse_dt = np.sqrt(mse_dt)\n",
    "mae_dt = mean_absolute_error(y_test, y_pred_dt)\n",
    "r2_dt = r2_score(y_test, y_pred_dt)\n",
    "\n",
    "print('\\nMétriques d\\'évaluation pour la régression par arbre de décision :')\n",
    "print(f'RMSE : {rmse_dt:.4f}')\n",
    "print(f'MAE : {mae_dt:.4f}')\n",
    "print(f'Coefficient de détermination R² : {r2_dt:.4f}')\n"
   ]
  },
  {
   "cell_type": "markdown",
   "metadata": {},
   "source": [
    "---------------------------"
   ]
  },
  {
   "cell_type": "markdown",
   "metadata": {},
   "source": [
    "## 7. **SARIMAX**"
   ]
  },
  {
   "cell_type": "markdown",
   "metadata": {},
   "source": [
    "-----------------------------------"
   ]
  },
  {
   "cell_type": "code",
   "execution_count": 22,
   "metadata": {},
   "outputs": [],
   "source": [
    "# Chargement des données\n",
    "df_entrainement = pd.read_csv(\"../00 - Annexes/data_prepro/donnees_entrainement_prepro.csv\")\n",
    "\n",
    "# Préparation des données avec variables exogènes\n",
    "df_entrainement['Timestamp'] = pd.to_datetime(df_entrainement['Timestamp'])\n",
    "df_ts = df_entrainement[['Timestamp', 'Prix', 'PrixInitial', 'AgeProduitEnJours', 'QuantiteVendue', 'UtiliteProduit', 'ElasticitePrix',\n",
    "                         'Remise', 'Qualite', 'Categorie_Electronique', 'Categorie_Livres',\n",
    "                         'Categorie_Vetements']].copy()\n",
    "df_ts.set_index('Timestamp', inplace=True)\n",
    "\n",
    "# Agrégation quotidienne\n",
    "df_ts = df_ts.resample('D').mean()\n",
    "\n",
    "# Gestion des valeurs manquantes\n",
    "df_ts.interpolate(method='linear', inplace=True)\n"
   ]
  },
  {
   "cell_type": "code",
   "execution_count": 23,
   "metadata": {},
   "outputs": [
    {
     "name": "stdout",
     "output_type": "stream",
     "text": [
      "ADF Statistic: -8.553257430589484\n",
      "p-value: 9.102091415890685e-14\n"
     ]
    }
   ],
   "source": [
    "\n",
    "# Vérification de la stationnarité de la cible\n",
    "adf_result = adfuller(df_ts['Prix'])\n",
    "print('ADF Statistic:', adf_result[0])\n",
    "print('p-value:', adf_result[1])\n",
    "\n",
    "# Différenciation conditionnelle\n",
    "if adf_result[1] > 0.05:\n",
    "    df_ts['Prix_diff'] = df_ts['Prix'].diff().dropna()\n",
    "    y_train_ts = df_ts['Prix_diff']\n",
    "    exog = df_ts.drop(columns=['Prix', 'Prix_diff']).diff().dropna()\n",
    "else:\n",
    "    y_train_ts = df_ts['Prix']\n",
    "    exog = df_ts.drop(columns=['Prix'])\n"
   ]
  },
  {
   "cell_type": "code",
   "execution_count": 24,
   "metadata": {},
   "outputs": [
    {
     "name": "stdout",
     "output_type": "stream",
     "text": [
      "Colonnes constantes après transformation : ['AgeProduitEnJours']\n",
      "ADF Statistic for QuantiteVendue after transformation: -11.424816226112759, p-value: 6.735688226714772e-21\n",
      "ADF Statistic for UtiliteProduit after transformation: -11.325596027819932, p-value: 1.1456120700562041e-20\n"
     ]
    }
   ],
   "source": [
    "# Identifier et exclure les variables constantes avant différenciation\n",
    "variables_to_exclude = ['PrixInitial', 'Qualite', 'Categorie_Electronique', 'Categorie_Livres', 'Categorie_Vetements', 'Promotion']\n",
    "exog = exog.drop(columns=variables_to_exclude, errors='ignore')\n",
    "\n",
    "# Appliquer une différenciation pour rendre les variables non stationnaires stationnaires\n",
    "non_stationary_vars = ['AgeProduitEnJours', 'QuantiteVendue', 'UtiliteProduit']\n",
    "exog[non_stationary_vars] = exog[non_stationary_vars].diff().dropna()\n",
    "\n",
    "# Vérification des colonnes constantes après transformation\n",
    "constant_columns = [col for col in exog.columns if exog[col].nunique() <= 1]\n",
    "if constant_columns:\n",
    "    print(f\"Colonnes constantes après transformation : {constant_columns}\")\n",
    "    exog = exog.drop(columns=constant_columns)\n",
    "\n",
    "# Vérification de la stationnarité après transformation\n",
    "for column in non_stationary_vars:\n",
    "    if column in exog.columns:  # Vérifier que la colonne existe après suppression des constantes\n",
    "        adf_test = adfuller(exog[column].dropna())\n",
    "        print(f\"ADF Statistic for {column} after transformation: {adf_test[0]}, p-value: {adf_test[1]}\")\n"
   ]
  },
  {
   "cell_type": "code",
   "execution_count": 25,
   "metadata": {},
   "outputs": [],
   "source": [
    "# Nettoyage automatique des colonnes constantes\n",
    "exog = exog.loc[:, exog.nunique() > 1]\n",
    "\n",
    "# Différenciation des exogènes uniquement si nécessaire\n",
    "if adf_result[1] > 0.05:\n",
    "    exog_diff = exog.diff().dropna()\n",
    "    if not exog_diff.isnull().any().any():\n",
    "        exog = exog_diff\n",
    "\n",
    "# Suppression des valeurs NaN et réalignement\n",
    "exog.replace([np.inf, -np.inf], np.nan, inplace=True)\n",
    "exog.dropna(inplace=True)\n",
    "y_train_ts = y_train_ts.loc[exog.index]\n",
    "\n",
    "# Vérification des dimensions\n",
    "if len(exog) != len(y_train_ts):\n",
    "    raise ValueError(\"Mismatch between exog and target length!\")"
   ]
  },
  {
   "cell_type": "code",
   "execution_count": 26,
   "metadata": {},
   "outputs": [],
   "source": [
    "# Division en ensembles d'entraînement et de test (respect des dépendances temporelles)\n",
    "# Nettoyage des exogènes\n",
    "exog.replace([np.inf, -np.inf], np.nan, inplace=True)  # Remplacer Inf par NaN\n",
    "exog.dropna(inplace=True)  # Supprimer les lignes contenant des NaN\n",
    "\n",
    "train_size = int(len(y_train_ts) * 0.8)\n",
    "train_data, test_data = y_train_ts.iloc[:train_size], y_train_ts.iloc[train_size:]\n",
    "exog_train, exog_test = exog.iloc[:train_size], exog.iloc[train_size:]"
   ]
  },
  {
   "cell_type": "code",
   "execution_count": 27,
   "metadata": {},
   "outputs": [
    {
     "name": "stderr",
     "output_type": "stream",
     "text": [
      "c:\\Users\\samir\\anaconda3\\envs\\envsynth\\lib\\site-packages\\statsmodels\\base\\model.py:607: ConvergenceWarning: Maximum Likelihood optimization failed to converge. Check mle_retvals\n",
      "  warnings.warn(\"Maximum Likelihood optimization failed to \"\n",
      "c:\\Users\\samir\\anaconda3\\envs\\envsynth\\lib\\site-packages\\statsmodels\\base\\model.py:607: ConvergenceWarning: Maximum Likelihood optimization failed to converge. Check mle_retvals\n",
      "  warnings.warn(\"Maximum Likelihood optimization failed to \"\n",
      "c:\\Users\\samir\\anaconda3\\envs\\envsynth\\lib\\site-packages\\statsmodels\\base\\model.py:607: ConvergenceWarning: Maximum Likelihood optimization failed to converge. Check mle_retvals\n",
      "  warnings.warn(\"Maximum Likelihood optimization failed to \"\n",
      "c:\\Users\\samir\\anaconda3\\envs\\envsynth\\lib\\site-packages\\statsmodels\\base\\model.py:607: ConvergenceWarning: Maximum Likelihood optimization failed to converge. Check mle_retvals\n",
      "  warnings.warn(\"Maximum Likelihood optimization failed to \"\n",
      "c:\\Users\\samir\\anaconda3\\envs\\envsynth\\lib\\site-packages\\statsmodels\\base\\model.py:607: ConvergenceWarning: Maximum Likelihood optimization failed to converge. Check mle_retvals\n",
      "  warnings.warn(\"Maximum Likelihood optimization failed to \"\n",
      "c:\\Users\\samir\\anaconda3\\envs\\envsynth\\lib\\site-packages\\statsmodels\\base\\model.py:607: ConvergenceWarning: Maximum Likelihood optimization failed to converge. Check mle_retvals\n",
      "  warnings.warn(\"Maximum Likelihood optimization failed to \"\n",
      "c:\\Users\\samir\\anaconda3\\envs\\envsynth\\lib\\site-packages\\statsmodels\\base\\model.py:607: ConvergenceWarning: Maximum Likelihood optimization failed to converge. Check mle_retvals\n",
      "  warnings.warn(\"Maximum Likelihood optimization failed to \"\n",
      "c:\\Users\\samir\\anaconda3\\envs\\envsynth\\lib\\site-packages\\statsmodels\\base\\model.py:607: ConvergenceWarning: Maximum Likelihood optimization failed to converge. Check mle_retvals\n",
      "  warnings.warn(\"Maximum Likelihood optimization failed to \"\n",
      "c:\\Users\\samir\\anaconda3\\envs\\envsynth\\lib\\site-packages\\statsmodels\\base\\model.py:607: ConvergenceWarning: Maximum Likelihood optimization failed to converge. Check mle_retvals\n",
      "  warnings.warn(\"Maximum Likelihood optimization failed to \"\n",
      "c:\\Users\\samir\\anaconda3\\envs\\envsynth\\lib\\site-packages\\statsmodels\\base\\model.py:607: ConvergenceWarning: Maximum Likelihood optimization failed to converge. Check mle_retvals\n",
      "  warnings.warn(\"Maximum Likelihood optimization failed to \"\n",
      "c:\\Users\\samir\\anaconda3\\envs\\envsynth\\lib\\site-packages\\statsmodels\\base\\model.py:607: ConvergenceWarning: Maximum Likelihood optimization failed to converge. Check mle_retvals\n",
      "  warnings.warn(\"Maximum Likelihood optimization failed to \"\n",
      "c:\\Users\\samir\\anaconda3\\envs\\envsynth\\lib\\site-packages\\statsmodels\\base\\model.py:607: ConvergenceWarning: Maximum Likelihood optimization failed to converge. Check mle_retvals\n",
      "  warnings.warn(\"Maximum Likelihood optimization failed to \"\n",
      "c:\\Users\\samir\\anaconda3\\envs\\envsynth\\lib\\site-packages\\statsmodels\\base\\model.py:607: ConvergenceWarning: Maximum Likelihood optimization failed to converge. Check mle_retvals\n",
      "  warnings.warn(\"Maximum Likelihood optimization failed to \"\n",
      "c:\\Users\\samir\\anaconda3\\envs\\envsynth\\lib\\site-packages\\statsmodels\\base\\model.py:607: ConvergenceWarning: Maximum Likelihood optimization failed to converge. Check mle_retvals\n",
      "  warnings.warn(\"Maximum Likelihood optimization failed to \"\n",
      "c:\\Users\\samir\\anaconda3\\envs\\envsynth\\lib\\site-packages\\statsmodels\\base\\model.py:607: ConvergenceWarning: Maximum Likelihood optimization failed to converge. Check mle_retvals\n",
      "  warnings.warn(\"Maximum Likelihood optimization failed to \"\n",
      "c:\\Users\\samir\\anaconda3\\envs\\envsynth\\lib\\site-packages\\statsmodels\\base\\model.py:607: ConvergenceWarning: Maximum Likelihood optimization failed to converge. Check mle_retvals\n",
      "  warnings.warn(\"Maximum Likelihood optimization failed to \"\n",
      "c:\\Users\\samir\\anaconda3\\envs\\envsynth\\lib\\site-packages\\statsmodels\\base\\model.py:607: ConvergenceWarning: Maximum Likelihood optimization failed to converge. Check mle_retvals\n",
      "  warnings.warn(\"Maximum Likelihood optimization failed to \"\n",
      "c:\\Users\\samir\\anaconda3\\envs\\envsynth\\lib\\site-packages\\statsmodels\\base\\model.py:607: ConvergenceWarning: Maximum Likelihood optimization failed to converge. Check mle_retvals\n",
      "  warnings.warn(\"Maximum Likelihood optimization failed to \"\n",
      "c:\\Users\\samir\\anaconda3\\envs\\envsynth\\lib\\site-packages\\statsmodels\\base\\model.py:607: ConvergenceWarning: Maximum Likelihood optimization failed to converge. Check mle_retvals\n",
      "  warnings.warn(\"Maximum Likelihood optimization failed to \"\n",
      "c:\\Users\\samir\\anaconda3\\envs\\envsynth\\lib\\site-packages\\statsmodels\\base\\model.py:607: ConvergenceWarning: Maximum Likelihood optimization failed to converge. Check mle_retvals\n",
      "  warnings.warn(\"Maximum Likelihood optimization failed to \"\n",
      "c:\\Users\\samir\\anaconda3\\envs\\envsynth\\lib\\site-packages\\statsmodels\\base\\model.py:607: ConvergenceWarning: Maximum Likelihood optimization failed to converge. Check mle_retvals\n",
      "  warnings.warn(\"Maximum Likelihood optimization failed to \"\n",
      "c:\\Users\\samir\\anaconda3\\envs\\envsynth\\lib\\site-packages\\statsmodels\\base\\model.py:607: ConvergenceWarning: Maximum Likelihood optimization failed to converge. Check mle_retvals\n",
      "  warnings.warn(\"Maximum Likelihood optimization failed to \"\n",
      "c:\\Users\\samir\\anaconda3\\envs\\envsynth\\lib\\site-packages\\statsmodels\\base\\model.py:607: ConvergenceWarning: Maximum Likelihood optimization failed to converge. Check mle_retvals\n",
      "  warnings.warn(\"Maximum Likelihood optimization failed to \"\n",
      "c:\\Users\\samir\\anaconda3\\envs\\envsynth\\lib\\site-packages\\statsmodels\\base\\model.py:607: ConvergenceWarning: Maximum Likelihood optimization failed to converge. Check mle_retvals\n",
      "  warnings.warn(\"Maximum Likelihood optimization failed to \"\n",
      "c:\\Users\\samir\\anaconda3\\envs\\envsynth\\lib\\site-packages\\statsmodels\\base\\model.py:607: ConvergenceWarning: Maximum Likelihood optimization failed to converge. Check mle_retvals\n",
      "  warnings.warn(\"Maximum Likelihood optimization failed to \"\n",
      "c:\\Users\\samir\\anaconda3\\envs\\envsynth\\lib\\site-packages\\statsmodels\\base\\model.py:607: ConvergenceWarning: Maximum Likelihood optimization failed to converge. Check mle_retvals\n",
      "  warnings.warn(\"Maximum Likelihood optimization failed to \"\n",
      "c:\\Users\\samir\\anaconda3\\envs\\envsynth\\lib\\site-packages\\statsmodels\\base\\model.py:607: ConvergenceWarning: Maximum Likelihood optimization failed to converge. Check mle_retvals\n",
      "  warnings.warn(\"Maximum Likelihood optimization failed to \"\n",
      "c:\\Users\\samir\\anaconda3\\envs\\envsynth\\lib\\site-packages\\statsmodels\\base\\model.py:607: ConvergenceWarning: Maximum Likelihood optimization failed to converge. Check mle_retvals\n",
      "  warnings.warn(\"Maximum Likelihood optimization failed to \"\n",
      "c:\\Users\\samir\\anaconda3\\envs\\envsynth\\lib\\site-packages\\statsmodels\\base\\model.py:607: ConvergenceWarning: Maximum Likelihood optimization failed to converge. Check mle_retvals\n",
      "  warnings.warn(\"Maximum Likelihood optimization failed to \"\n",
      "c:\\Users\\samir\\anaconda3\\envs\\envsynth\\lib\\site-packages\\statsmodels\\base\\model.py:607: ConvergenceWarning: Maximum Likelihood optimization failed to converge. Check mle_retvals\n",
      "  warnings.warn(\"Maximum Likelihood optimization failed to \"\n",
      "c:\\Users\\samir\\anaconda3\\envs\\envsynth\\lib\\site-packages\\statsmodels\\base\\model.py:607: ConvergenceWarning: Maximum Likelihood optimization failed to converge. Check mle_retvals\n",
      "  warnings.warn(\"Maximum Likelihood optimization failed to \"\n",
      "c:\\Users\\samir\\anaconda3\\envs\\envsynth\\lib\\site-packages\\statsmodels\\base\\model.py:607: ConvergenceWarning: Maximum Likelihood optimization failed to converge. Check mle_retvals\n",
      "  warnings.warn(\"Maximum Likelihood optimization failed to \"\n",
      "c:\\Users\\samir\\anaconda3\\envs\\envsynth\\lib\\site-packages\\statsmodels\\base\\model.py:607: ConvergenceWarning: Maximum Likelihood optimization failed to converge. Check mle_retvals\n",
      "  warnings.warn(\"Maximum Likelihood optimization failed to \"\n",
      "c:\\Users\\samir\\anaconda3\\envs\\envsynth\\lib\\site-packages\\statsmodels\\base\\model.py:607: ConvergenceWarning: Maximum Likelihood optimization failed to converge. Check mle_retvals\n",
      "  warnings.warn(\"Maximum Likelihood optimization failed to \"\n",
      "c:\\Users\\samir\\anaconda3\\envs\\envsynth\\lib\\site-packages\\statsmodels\\base\\model.py:607: ConvergenceWarning: Maximum Likelihood optimization failed to converge. Check mle_retvals\n",
      "  warnings.warn(\"Maximum Likelihood optimization failed to \"\n",
      "c:\\Users\\samir\\anaconda3\\envs\\envsynth\\lib\\site-packages\\statsmodels\\base\\model.py:607: ConvergenceWarning: Maximum Likelihood optimization failed to converge. Check mle_retvals\n",
      "  warnings.warn(\"Maximum Likelihood optimization failed to \"\n",
      "c:\\Users\\samir\\anaconda3\\envs\\envsynth\\lib\\site-packages\\statsmodels\\base\\model.py:607: ConvergenceWarning: Maximum Likelihood optimization failed to converge. Check mle_retvals\n",
      "  warnings.warn(\"Maximum Likelihood optimization failed to \"\n",
      "c:\\Users\\samir\\anaconda3\\envs\\envsynth\\lib\\site-packages\\statsmodels\\base\\model.py:607: ConvergenceWarning: Maximum Likelihood optimization failed to converge. Check mle_retvals\n",
      "  warnings.warn(\"Maximum Likelihood optimization failed to \"\n",
      "c:\\Users\\samir\\anaconda3\\envs\\envsynth\\lib\\site-packages\\statsmodels\\base\\model.py:607: ConvergenceWarning: Maximum Likelihood optimization failed to converge. Check mle_retvals\n",
      "  warnings.warn(\"Maximum Likelihood optimization failed to \"\n",
      "c:\\Users\\samir\\anaconda3\\envs\\envsynth\\lib\\site-packages\\statsmodels\\base\\model.py:607: ConvergenceWarning: Maximum Likelihood optimization failed to converge. Check mle_retvals\n",
      "  warnings.warn(\"Maximum Likelihood optimization failed to \"\n",
      "c:\\Users\\samir\\anaconda3\\envs\\envsynth\\lib\\site-packages\\statsmodels\\base\\model.py:607: ConvergenceWarning: Maximum Likelihood optimization failed to converge. Check mle_retvals\n",
      "  warnings.warn(\"Maximum Likelihood optimization failed to \"\n",
      "c:\\Users\\samir\\anaconda3\\envs\\envsynth\\lib\\site-packages\\statsmodels\\base\\model.py:607: ConvergenceWarning: Maximum Likelihood optimization failed to converge. Check mle_retvals\n",
      "  warnings.warn(\"Maximum Likelihood optimization failed to \"\n",
      "c:\\Users\\samir\\anaconda3\\envs\\envsynth\\lib\\site-packages\\statsmodels\\base\\model.py:607: ConvergenceWarning: Maximum Likelihood optimization failed to converge. Check mle_retvals\n",
      "  warnings.warn(\"Maximum Likelihood optimization failed to \"\n",
      "c:\\Users\\samir\\anaconda3\\envs\\envsynth\\lib\\site-packages\\statsmodels\\base\\model.py:607: ConvergenceWarning: Maximum Likelihood optimization failed to converge. Check mle_retvals\n",
      "  warnings.warn(\"Maximum Likelihood optimization failed to \"\n",
      "c:\\Users\\samir\\anaconda3\\envs\\envsynth\\lib\\site-packages\\statsmodels\\base\\model.py:607: ConvergenceWarning: Maximum Likelihood optimization failed to converge. Check mle_retvals\n",
      "  warnings.warn(\"Maximum Likelihood optimization failed to \"\n",
      "c:\\Users\\samir\\anaconda3\\envs\\envsynth\\lib\\site-packages\\statsmodels\\base\\model.py:607: ConvergenceWarning: Maximum Likelihood optimization failed to converge. Check mle_retvals\n",
      "  warnings.warn(\"Maximum Likelihood optimization failed to \"\n",
      "c:\\Users\\samir\\anaconda3\\envs\\envsynth\\lib\\site-packages\\statsmodels\\base\\model.py:607: ConvergenceWarning: Maximum Likelihood optimization failed to converge. Check mle_retvals\n",
      "  warnings.warn(\"Maximum Likelihood optimization failed to \"\n",
      "c:\\Users\\samir\\anaconda3\\envs\\envsynth\\lib\\site-packages\\statsmodels\\base\\model.py:607: ConvergenceWarning: Maximum Likelihood optimization failed to converge. Check mle_retvals\n",
      "  warnings.warn(\"Maximum Likelihood optimization failed to \"\n",
      "c:\\Users\\samir\\anaconda3\\envs\\envsynth\\lib\\site-packages\\statsmodels\\base\\model.py:607: ConvergenceWarning: Maximum Likelihood optimization failed to converge. Check mle_retvals\n",
      "  warnings.warn(\"Maximum Likelihood optimization failed to \"\n",
      "c:\\Users\\samir\\anaconda3\\envs\\envsynth\\lib\\site-packages\\statsmodels\\base\\model.py:607: ConvergenceWarning: Maximum Likelihood optimization failed to converge. Check mle_retvals\n",
      "  warnings.warn(\"Maximum Likelihood optimization failed to \"\n",
      "c:\\Users\\samir\\anaconda3\\envs\\envsynth\\lib\\site-packages\\statsmodels\\base\\model.py:607: ConvergenceWarning: Maximum Likelihood optimization failed to converge. Check mle_retvals\n",
      "  warnings.warn(\"Maximum Likelihood optimization failed to \"\n",
      "c:\\Users\\samir\\anaconda3\\envs\\envsynth\\lib\\site-packages\\statsmodels\\base\\model.py:607: ConvergenceWarning: Maximum Likelihood optimization failed to converge. Check mle_retvals\n",
      "  warnings.warn(\"Maximum Likelihood optimization failed to \"\n",
      "c:\\Users\\samir\\anaconda3\\envs\\envsynth\\lib\\site-packages\\statsmodels\\base\\model.py:607: ConvergenceWarning: Maximum Likelihood optimization failed to converge. Check mle_retvals\n",
      "  warnings.warn(\"Maximum Likelihood optimization failed to \"\n",
      "c:\\Users\\samir\\anaconda3\\envs\\envsynth\\lib\\site-packages\\statsmodels\\base\\model.py:607: ConvergenceWarning: Maximum Likelihood optimization failed to converge. Check mle_retvals\n",
      "  warnings.warn(\"Maximum Likelihood optimization failed to \"\n",
      "c:\\Users\\samir\\anaconda3\\envs\\envsynth\\lib\\site-packages\\statsmodels\\base\\model.py:607: ConvergenceWarning: Maximum Likelihood optimization failed to converge. Check mle_retvals\n",
      "  warnings.warn(\"Maximum Likelihood optimization failed to \"\n",
      "c:\\Users\\samir\\anaconda3\\envs\\envsynth\\lib\\site-packages\\statsmodels\\base\\model.py:607: ConvergenceWarning: Maximum Likelihood optimization failed to converge. Check mle_retvals\n",
      "  warnings.warn(\"Maximum Likelihood optimization failed to \"\n",
      "c:\\Users\\samir\\anaconda3\\envs\\envsynth\\lib\\site-packages\\statsmodels\\base\\model.py:607: ConvergenceWarning: Maximum Likelihood optimization failed to converge. Check mle_retvals\n",
      "  warnings.warn(\"Maximum Likelihood optimization failed to \"\n",
      "c:\\Users\\samir\\anaconda3\\envs\\envsynth\\lib\\site-packages\\statsmodels\\base\\model.py:607: ConvergenceWarning: Maximum Likelihood optimization failed to converge. Check mle_retvals\n",
      "  warnings.warn(\"Maximum Likelihood optimization failed to \"\n",
      "c:\\Users\\samir\\anaconda3\\envs\\envsynth\\lib\\site-packages\\statsmodels\\base\\model.py:607: ConvergenceWarning: Maximum Likelihood optimization failed to converge. Check mle_retvals\n",
      "  warnings.warn(\"Maximum Likelihood optimization failed to \"\n",
      "c:\\Users\\samir\\anaconda3\\envs\\envsynth\\lib\\site-packages\\statsmodels\\base\\model.py:607: ConvergenceWarning: Maximum Likelihood optimization failed to converge. Check mle_retvals\n",
      "  warnings.warn(\"Maximum Likelihood optimization failed to \"\n",
      "c:\\Users\\samir\\anaconda3\\envs\\envsynth\\lib\\site-packages\\statsmodels\\base\\model.py:607: ConvergenceWarning: Maximum Likelihood optimization failed to converge. Check mle_retvals\n",
      "  warnings.warn(\"Maximum Likelihood optimization failed to \"\n",
      "c:\\Users\\samir\\anaconda3\\envs\\envsynth\\lib\\site-packages\\statsmodels\\base\\model.py:607: ConvergenceWarning: Maximum Likelihood optimization failed to converge. Check mle_retvals\n",
      "  warnings.warn(\"Maximum Likelihood optimization failed to \"\n",
      "c:\\Users\\samir\\anaconda3\\envs\\envsynth\\lib\\site-packages\\statsmodels\\base\\model.py:607: ConvergenceWarning: Maximum Likelihood optimization failed to converge. Check mle_retvals\n",
      "  warnings.warn(\"Maximum Likelihood optimization failed to \"\n",
      "c:\\Users\\samir\\anaconda3\\envs\\envsynth\\lib\\site-packages\\statsmodels\\base\\model.py:607: ConvergenceWarning: Maximum Likelihood optimization failed to converge. Check mle_retvals\n",
      "  warnings.warn(\"Maximum Likelihood optimization failed to \"\n",
      "c:\\Users\\samir\\anaconda3\\envs\\envsynth\\lib\\site-packages\\statsmodels\\base\\model.py:607: ConvergenceWarning: Maximum Likelihood optimization failed to converge. Check mle_retvals\n",
      "  warnings.warn(\"Maximum Likelihood optimization failed to \"\n",
      "c:\\Users\\samir\\anaconda3\\envs\\envsynth\\lib\\site-packages\\statsmodels\\base\\model.py:607: ConvergenceWarning: Maximum Likelihood optimization failed to converge. Check mle_retvals\n",
      "  warnings.warn(\"Maximum Likelihood optimization failed to \"\n",
      "c:\\Users\\samir\\anaconda3\\envs\\envsynth\\lib\\site-packages\\statsmodels\\base\\model.py:607: ConvergenceWarning: Maximum Likelihood optimization failed to converge. Check mle_retvals\n",
      "  warnings.warn(\"Maximum Likelihood optimization failed to \"\n",
      "c:\\Users\\samir\\anaconda3\\envs\\envsynth\\lib\\site-packages\\statsmodels\\base\\model.py:607: ConvergenceWarning: Maximum Likelihood optimization failed to converge. Check mle_retvals\n",
      "  warnings.warn(\"Maximum Likelihood optimization failed to \"\n",
      "c:\\Users\\samir\\anaconda3\\envs\\envsynth\\lib\\site-packages\\statsmodels\\base\\model.py:607: ConvergenceWarning: Maximum Likelihood optimization failed to converge. Check mle_retvals\n",
      "  warnings.warn(\"Maximum Likelihood optimization failed to \"\n",
      "c:\\Users\\samir\\anaconda3\\envs\\envsynth\\lib\\site-packages\\statsmodels\\base\\model.py:607: ConvergenceWarning: Maximum Likelihood optimization failed to converge. Check mle_retvals\n",
      "  warnings.warn(\"Maximum Likelihood optimization failed to \"\n",
      "c:\\Users\\samir\\anaconda3\\envs\\envsynth\\lib\\site-packages\\statsmodels\\base\\model.py:607: ConvergenceWarning: Maximum Likelihood optimization failed to converge. Check mle_retvals\n",
      "  warnings.warn(\"Maximum Likelihood optimization failed to \"\n",
      "c:\\Users\\samir\\anaconda3\\envs\\envsynth\\lib\\site-packages\\statsmodels\\base\\model.py:607: ConvergenceWarning: Maximum Likelihood optimization failed to converge. Check mle_retvals\n",
      "  warnings.warn(\"Maximum Likelihood optimization failed to \"\n",
      "c:\\Users\\samir\\anaconda3\\envs\\envsynth\\lib\\site-packages\\statsmodels\\base\\model.py:607: ConvergenceWarning: Maximum Likelihood optimization failed to converge. Check mle_retvals\n",
      "  warnings.warn(\"Maximum Likelihood optimization failed to \"\n",
      "c:\\Users\\samir\\anaconda3\\envs\\envsynth\\lib\\site-packages\\statsmodels\\base\\model.py:607: ConvergenceWarning: Maximum Likelihood optimization failed to converge. Check mle_retvals\n",
      "  warnings.warn(\"Maximum Likelihood optimization failed to \"\n",
      "c:\\Users\\samir\\anaconda3\\envs\\envsynth\\lib\\site-packages\\statsmodels\\base\\model.py:607: ConvergenceWarning: Maximum Likelihood optimization failed to converge. Check mle_retvals\n",
      "  warnings.warn(\"Maximum Likelihood optimization failed to \"\n",
      "c:\\Users\\samir\\anaconda3\\envs\\envsynth\\lib\\site-packages\\statsmodels\\base\\model.py:607: ConvergenceWarning: Maximum Likelihood optimization failed to converge. Check mle_retvals\n",
      "  warnings.warn(\"Maximum Likelihood optimization failed to \"\n",
      "c:\\Users\\samir\\anaconda3\\envs\\envsynth\\lib\\site-packages\\statsmodels\\base\\model.py:607: ConvergenceWarning: Maximum Likelihood optimization failed to converge. Check mle_retvals\n",
      "  warnings.warn(\"Maximum Likelihood optimization failed to \"\n",
      "c:\\Users\\samir\\anaconda3\\envs\\envsynth\\lib\\site-packages\\statsmodels\\base\\model.py:607: ConvergenceWarning: Maximum Likelihood optimization failed to converge. Check mle_retvals\n",
      "  warnings.warn(\"Maximum Likelihood optimization failed to \"\n",
      "c:\\Users\\samir\\anaconda3\\envs\\envsynth\\lib\\site-packages\\statsmodels\\base\\model.py:607: ConvergenceWarning: Maximum Likelihood optimization failed to converge. Check mle_retvals\n",
      "  warnings.warn(\"Maximum Likelihood optimization failed to \"\n",
      "c:\\Users\\samir\\anaconda3\\envs\\envsynth\\lib\\site-packages\\statsmodels\\base\\model.py:607: ConvergenceWarning: Maximum Likelihood optimization failed to converge. Check mle_retvals\n",
      "  warnings.warn(\"Maximum Likelihood optimization failed to \"\n",
      "c:\\Users\\samir\\anaconda3\\envs\\envsynth\\lib\\site-packages\\statsmodels\\base\\model.py:607: ConvergenceWarning: Maximum Likelihood optimization failed to converge. Check mle_retvals\n",
      "  warnings.warn(\"Maximum Likelihood optimization failed to \"\n",
      "c:\\Users\\samir\\anaconda3\\envs\\envsynth\\lib\\site-packages\\statsmodels\\base\\model.py:607: ConvergenceWarning: Maximum Likelihood optimization failed to converge. Check mle_retvals\n",
      "  warnings.warn(\"Maximum Likelihood optimization failed to \"\n",
      "c:\\Users\\samir\\anaconda3\\envs\\envsynth\\lib\\site-packages\\statsmodels\\base\\model.py:607: ConvergenceWarning: Maximum Likelihood optimization failed to converge. Check mle_retvals\n",
      "  warnings.warn(\"Maximum Likelihood optimization failed to \"\n",
      "c:\\Users\\samir\\anaconda3\\envs\\envsynth\\lib\\site-packages\\statsmodels\\base\\model.py:607: ConvergenceWarning: Maximum Likelihood optimization failed to converge. Check mle_retvals\n",
      "  warnings.warn(\"Maximum Likelihood optimization failed to \"\n",
      "c:\\Users\\samir\\anaconda3\\envs\\envsynth\\lib\\site-packages\\statsmodels\\base\\model.py:607: ConvergenceWarning: Maximum Likelihood optimization failed to converge. Check mle_retvals\n",
      "  warnings.warn(\"Maximum Likelihood optimization failed to \"\n",
      "c:\\Users\\samir\\anaconda3\\envs\\envsynth\\lib\\site-packages\\statsmodels\\base\\model.py:607: ConvergenceWarning: Maximum Likelihood optimization failed to converge. Check mle_retvals\n",
      "  warnings.warn(\"Maximum Likelihood optimization failed to \"\n",
      "c:\\Users\\samir\\anaconda3\\envs\\envsynth\\lib\\site-packages\\statsmodels\\base\\model.py:607: ConvergenceWarning: Maximum Likelihood optimization failed to converge. Check mle_retvals\n",
      "  warnings.warn(\"Maximum Likelihood optimization failed to \"\n",
      "c:\\Users\\samir\\anaconda3\\envs\\envsynth\\lib\\site-packages\\statsmodels\\base\\model.py:607: ConvergenceWarning: Maximum Likelihood optimization failed to converge. Check mle_retvals\n",
      "  warnings.warn(\"Maximum Likelihood optimization failed to \"\n",
      "c:\\Users\\samir\\anaconda3\\envs\\envsynth\\lib\\site-packages\\statsmodels\\base\\model.py:607: ConvergenceWarning: Maximum Likelihood optimization failed to converge. Check mle_retvals\n",
      "  warnings.warn(\"Maximum Likelihood optimization failed to \"\n",
      "c:\\Users\\samir\\anaconda3\\envs\\envsynth\\lib\\site-packages\\statsmodels\\base\\model.py:607: ConvergenceWarning: Maximum Likelihood optimization failed to converge. Check mle_retvals\n",
      "  warnings.warn(\"Maximum Likelihood optimization failed to \"\n",
      "c:\\Users\\samir\\anaconda3\\envs\\envsynth\\lib\\site-packages\\statsmodels\\base\\model.py:607: ConvergenceWarning: Maximum Likelihood optimization failed to converge. Check mle_retvals\n",
      "  warnings.warn(\"Maximum Likelihood optimization failed to \"\n",
      "c:\\Users\\samir\\anaconda3\\envs\\envsynth\\lib\\site-packages\\statsmodels\\base\\model.py:607: ConvergenceWarning: Maximum Likelihood optimization failed to converge. Check mle_retvals\n",
      "  warnings.warn(\"Maximum Likelihood optimization failed to \"\n",
      "c:\\Users\\samir\\anaconda3\\envs\\envsynth\\lib\\site-packages\\statsmodels\\base\\model.py:607: ConvergenceWarning: Maximum Likelihood optimization failed to converge. Check mle_retvals\n",
      "  warnings.warn(\"Maximum Likelihood optimization failed to \"\n",
      "c:\\Users\\samir\\anaconda3\\envs\\envsynth\\lib\\site-packages\\statsmodels\\base\\model.py:607: ConvergenceWarning: Maximum Likelihood optimization failed to converge. Check mle_retvals\n",
      "  warnings.warn(\"Maximum Likelihood optimization failed to \"\n",
      "c:\\Users\\samir\\anaconda3\\envs\\envsynth\\lib\\site-packages\\statsmodels\\base\\model.py:607: ConvergenceWarning: Maximum Likelihood optimization failed to converge. Check mle_retvals\n",
      "  warnings.warn(\"Maximum Likelihood optimization failed to \"\n",
      "c:\\Users\\samir\\anaconda3\\envs\\envsynth\\lib\\site-packages\\statsmodels\\base\\model.py:607: ConvergenceWarning: Maximum Likelihood optimization failed to converge. Check mle_retvals\n",
      "  warnings.warn(\"Maximum Likelihood optimization failed to \"\n",
      "c:\\Users\\samir\\anaconda3\\envs\\envsynth\\lib\\site-packages\\statsmodels\\base\\model.py:607: ConvergenceWarning: Maximum Likelihood optimization failed to converge. Check mle_retvals\n",
      "  warnings.warn(\"Maximum Likelihood optimization failed to \"\n",
      "c:\\Users\\samir\\anaconda3\\envs\\envsynth\\lib\\site-packages\\statsmodels\\base\\model.py:607: ConvergenceWarning: Maximum Likelihood optimization failed to converge. Check mle_retvals\n",
      "  warnings.warn(\"Maximum Likelihood optimization failed to \"\n",
      "c:\\Users\\samir\\anaconda3\\envs\\envsynth\\lib\\site-packages\\statsmodels\\base\\model.py:607: ConvergenceWarning: Maximum Likelihood optimization failed to converge. Check mle_retvals\n",
      "  warnings.warn(\"Maximum Likelihood optimization failed to \"\n",
      "c:\\Users\\samir\\anaconda3\\envs\\envsynth\\lib\\site-packages\\statsmodels\\base\\model.py:607: ConvergenceWarning: Maximum Likelihood optimization failed to converge. Check mle_retvals\n",
      "  warnings.warn(\"Maximum Likelihood optimization failed to \"\n",
      "c:\\Users\\samir\\anaconda3\\envs\\envsynth\\lib\\site-packages\\statsmodels\\base\\model.py:607: ConvergenceWarning: Maximum Likelihood optimization failed to converge. Check mle_retvals\n",
      "  warnings.warn(\"Maximum Likelihood optimization failed to \"\n",
      "c:\\Users\\samir\\anaconda3\\envs\\envsynth\\lib\\site-packages\\statsmodels\\base\\model.py:607: ConvergenceWarning: Maximum Likelihood optimization failed to converge. Check mle_retvals\n",
      "  warnings.warn(\"Maximum Likelihood optimization failed to \"\n",
      "c:\\Users\\samir\\anaconda3\\envs\\envsynth\\lib\\site-packages\\statsmodels\\base\\model.py:607: ConvergenceWarning: Maximum Likelihood optimization failed to converge. Check mle_retvals\n",
      "  warnings.warn(\"Maximum Likelihood optimization failed to \"\n",
      "c:\\Users\\samir\\anaconda3\\envs\\envsynth\\lib\\site-packages\\statsmodels\\base\\model.py:607: ConvergenceWarning: Maximum Likelihood optimization failed to converge. Check mle_retvals\n",
      "  warnings.warn(\"Maximum Likelihood optimization failed to \"\n",
      "c:\\Users\\samir\\anaconda3\\envs\\envsynth\\lib\\site-packages\\statsmodels\\base\\model.py:607: ConvergenceWarning: Maximum Likelihood optimization failed to converge. Check mle_retvals\n",
      "  warnings.warn(\"Maximum Likelihood optimization failed to \"\n",
      "c:\\Users\\samir\\anaconda3\\envs\\envsynth\\lib\\site-packages\\statsmodels\\base\\model.py:607: ConvergenceWarning: Maximum Likelihood optimization failed to converge. Check mle_retvals\n",
      "  warnings.warn(\"Maximum Likelihood optimization failed to \"\n",
      "c:\\Users\\samir\\anaconda3\\envs\\envsynth\\lib\\site-packages\\statsmodels\\base\\model.py:607: ConvergenceWarning: Maximum Likelihood optimization failed to converge. Check mle_retvals\n",
      "  warnings.warn(\"Maximum Likelihood optimization failed to \"\n",
      "c:\\Users\\samir\\anaconda3\\envs\\envsynth\\lib\\site-packages\\statsmodels\\base\\model.py:607: ConvergenceWarning: Maximum Likelihood optimization failed to converge. Check mle_retvals\n",
      "  warnings.warn(\"Maximum Likelihood optimization failed to \"\n",
      "c:\\Users\\samir\\anaconda3\\envs\\envsynth\\lib\\site-packages\\statsmodels\\base\\model.py:607: ConvergenceWarning: Maximum Likelihood optimization failed to converge. Check mle_retvals\n",
      "  warnings.warn(\"Maximum Likelihood optimization failed to \"\n",
      "c:\\Users\\samir\\anaconda3\\envs\\envsynth\\lib\\site-packages\\statsmodels\\base\\model.py:607: ConvergenceWarning: Maximum Likelihood optimization failed to converge. Check mle_retvals\n",
      "  warnings.warn(\"Maximum Likelihood optimization failed to \"\n",
      "c:\\Users\\samir\\anaconda3\\envs\\envsynth\\lib\\site-packages\\statsmodels\\base\\model.py:607: ConvergenceWarning: Maximum Likelihood optimization failed to converge. Check mle_retvals\n",
      "  warnings.warn(\"Maximum Likelihood optimization failed to \"\n",
      "c:\\Users\\samir\\anaconda3\\envs\\envsynth\\lib\\site-packages\\statsmodels\\base\\model.py:607: ConvergenceWarning: Maximum Likelihood optimization failed to converge. Check mle_retvals\n",
      "  warnings.warn(\"Maximum Likelihood optimization failed to \"\n",
      "c:\\Users\\samir\\anaconda3\\envs\\envsynth\\lib\\site-packages\\statsmodels\\base\\model.py:607: ConvergenceWarning: Maximum Likelihood optimization failed to converge. Check mle_retvals\n",
      "  warnings.warn(\"Maximum Likelihood optimization failed to \"\n",
      "c:\\Users\\samir\\anaconda3\\envs\\envsynth\\lib\\site-packages\\statsmodels\\base\\model.py:607: ConvergenceWarning: Maximum Likelihood optimization failed to converge. Check mle_retvals\n",
      "  warnings.warn(\"Maximum Likelihood optimization failed to \"\n",
      "c:\\Users\\samir\\anaconda3\\envs\\envsynth\\lib\\site-packages\\statsmodels\\base\\model.py:607: ConvergenceWarning: Maximum Likelihood optimization failed to converge. Check mle_retvals\n",
      "  warnings.warn(\"Maximum Likelihood optimization failed to \"\n",
      "c:\\Users\\samir\\anaconda3\\envs\\envsynth\\lib\\site-packages\\statsmodels\\base\\model.py:607: ConvergenceWarning: Maximum Likelihood optimization failed to converge. Check mle_retvals\n",
      "  warnings.warn(\"Maximum Likelihood optimization failed to \"\n",
      "c:\\Users\\samir\\anaconda3\\envs\\envsynth\\lib\\site-packages\\statsmodels\\base\\model.py:607: ConvergenceWarning: Maximum Likelihood optimization failed to converge. Check mle_retvals\n",
      "  warnings.warn(\"Maximum Likelihood optimization failed to \"\n",
      "c:\\Users\\samir\\anaconda3\\envs\\envsynth\\lib\\site-packages\\statsmodels\\base\\model.py:607: ConvergenceWarning: Maximum Likelihood optimization failed to converge. Check mle_retvals\n",
      "  warnings.warn(\"Maximum Likelihood optimization failed to \"\n",
      "c:\\Users\\samir\\anaconda3\\envs\\envsynth\\lib\\site-packages\\statsmodels\\base\\model.py:607: ConvergenceWarning: Maximum Likelihood optimization failed to converge. Check mle_retvals\n",
      "  warnings.warn(\"Maximum Likelihood optimization failed to \"\n",
      "c:\\Users\\samir\\anaconda3\\envs\\envsynth\\lib\\site-packages\\statsmodels\\base\\model.py:607: ConvergenceWarning: Maximum Likelihood optimization failed to converge. Check mle_retvals\n",
      "  warnings.warn(\"Maximum Likelihood optimization failed to \"\n",
      "c:\\Users\\samir\\anaconda3\\envs\\envsynth\\lib\\site-packages\\statsmodels\\base\\model.py:607: ConvergenceWarning: Maximum Likelihood optimization failed to converge. Check mle_retvals\n",
      "  warnings.warn(\"Maximum Likelihood optimization failed to \"\n",
      "c:\\Users\\samir\\anaconda3\\envs\\envsynth\\lib\\site-packages\\statsmodels\\base\\model.py:607: ConvergenceWarning: Maximum Likelihood optimization failed to converge. Check mle_retvals\n",
      "  warnings.warn(\"Maximum Likelihood optimization failed to \"\n",
      "c:\\Users\\samir\\anaconda3\\envs\\envsynth\\lib\\site-packages\\statsmodels\\base\\model.py:607: ConvergenceWarning: Maximum Likelihood optimization failed to converge. Check mle_retvals\n",
      "  warnings.warn(\"Maximum Likelihood optimization failed to \"\n",
      "c:\\Users\\samir\\anaconda3\\envs\\envsynth\\lib\\site-packages\\statsmodels\\base\\model.py:607: ConvergenceWarning: Maximum Likelihood optimization failed to converge. Check mle_retvals\n",
      "  warnings.warn(\"Maximum Likelihood optimization failed to \"\n",
      "c:\\Users\\samir\\anaconda3\\envs\\envsynth\\lib\\site-packages\\statsmodels\\base\\model.py:607: ConvergenceWarning: Maximum Likelihood optimization failed to converge. Check mle_retvals\n",
      "  warnings.warn(\"Maximum Likelihood optimization failed to \"\n",
      "c:\\Users\\samir\\anaconda3\\envs\\envsynth\\lib\\site-packages\\statsmodels\\base\\model.py:607: ConvergenceWarning: Maximum Likelihood optimization failed to converge. Check mle_retvals\n",
      "  warnings.warn(\"Maximum Likelihood optimization failed to \"\n",
      "c:\\Users\\samir\\anaconda3\\envs\\envsynth\\lib\\site-packages\\statsmodels\\base\\model.py:607: ConvergenceWarning: Maximum Likelihood optimization failed to converge. Check mle_retvals\n",
      "  warnings.warn(\"Maximum Likelihood optimization failed to \"\n",
      "c:\\Users\\samir\\anaconda3\\envs\\envsynth\\lib\\site-packages\\statsmodels\\base\\model.py:607: ConvergenceWarning: Maximum Likelihood optimization failed to converge. Check mle_retvals\n",
      "  warnings.warn(\"Maximum Likelihood optimization failed to \"\n",
      "c:\\Users\\samir\\anaconda3\\envs\\envsynth\\lib\\site-packages\\statsmodels\\base\\model.py:607: ConvergenceWarning: Maximum Likelihood optimization failed to converge. Check mle_retvals\n",
      "  warnings.warn(\"Maximum Likelihood optimization failed to \"\n",
      "c:\\Users\\samir\\anaconda3\\envs\\envsynth\\lib\\site-packages\\statsmodels\\base\\model.py:607: ConvergenceWarning: Maximum Likelihood optimization failed to converge. Check mle_retvals\n",
      "  warnings.warn(\"Maximum Likelihood optimization failed to \"\n",
      "c:\\Users\\samir\\anaconda3\\envs\\envsynth\\lib\\site-packages\\statsmodels\\base\\model.py:607: ConvergenceWarning: Maximum Likelihood optimization failed to converge. Check mle_retvals\n",
      "  warnings.warn(\"Maximum Likelihood optimization failed to \"\n",
      "c:\\Users\\samir\\anaconda3\\envs\\envsynth\\lib\\site-packages\\statsmodels\\base\\model.py:607: ConvergenceWarning: Maximum Likelihood optimization failed to converge. Check mle_retvals\n",
      "  warnings.warn(\"Maximum Likelihood optimization failed to \"\n"
     ]
    },
    {
     "name": "stdout",
     "output_type": "stream",
     "text": [
      "Best SARIMAX order: (1, 1, 2), Seasonal order: (1, 0, 0, 7), AIC: 82.80633920781536\n"
     ]
    },
    {
     "name": "stderr",
     "output_type": "stream",
     "text": [
      "c:\\Users\\samir\\anaconda3\\envs\\envsynth\\lib\\site-packages\\statsmodels\\base\\model.py:607: ConvergenceWarning: Maximum Likelihood optimization failed to converge. Check mle_retvals\n",
      "  warnings.warn(\"Maximum Likelihood optimization failed to \"\n"
     ]
    }
   ],
   "source": [
    "\n",
    "# Réaligner la cible avec les exogènes nettoyées\n",
    "y_train_ts = y_train_ts.loc[exog.index]\n",
    "\n",
    "# Vérifications pour assurer l'intégrité des données\n",
    "if exog.isnull().any().any():\n",
    "    raise ValueError(\"exog contains NaN values even after cleaning!\")\n",
    "if len(exog) != len(y_train_ts):\n",
    "    raise ValueError(\"Mismatch between exog and target length!\")\n",
    "\n",
    "p = d = q = range(0, 3)\n",
    "P = D = Q = range(0, 2)\n",
    "s = 7\n",
    "\n",
    "# Recherche des meilleurs paramètres SARIMAX\n",
    "best_aic = np.inf\n",
    "for param in itertools.product(p, d, q):\n",
    "    for seasonal_param in itertools.product(P, D, Q, [s]):\n",
    "        try:\n",
    "            mod = SARIMAX(\n",
    "                train_data,\n",
    "                exog=exog_train,\n",
    "                order=param,\n",
    "                seasonal_order=seasonal_param,\n",
    "                enforce_stationarity=False,\n",
    "                enforce_invertibility=False,\n",
    "            )\n",
    "            results = mod.fit(disp=False)\n",
    "            if results.aic < best_aic:\n",
    "                best_aic = results.aic\n",
    "                best_order = param\n",
    "                best_seasonal_order = seasonal_param\n",
    "        except Exception as e:\n",
    "            print(f\"Erreur avec les paramètres {param} et {seasonal_param}: {e}\")\n",
    "\n",
    "print(f'Best SARIMAX order: {best_order}, Seasonal order: {best_seasonal_order}, AIC: {best_aic}')\n"
   ]
  },
  {
   "cell_type": "code",
   "execution_count": 28,
   "metadata": {},
   "outputs": [
    {
     "data": {
      "image/png": "[encoded data removed]",
      "text/plain": [
       "<Figure size 1200x600 with 1 Axes>"
      ]
     },
     "metadata": {},
     "output_type": "display_data"
    }
   ],
   "source": [
    "# Entraînement final\n",
    "model = SARIMAX(\n",
    "    train_data,\n",
    "    exog=exog_train,\n",
    "    order=best_order,\n",
    "    seasonal_order=best_seasonal_order,\n",
    "    enforce_stationarity=False,\n",
    "    enforce_invertibility=False,\n",
    ")\n",
    "model_fit = model.fit(disp=False)\n",
    "\n",
    "# Visualisation des prédictions\n",
    "forecast = model_fit.get_forecast(steps=len(test_data), exog=exog_test)\n",
    "forecast_values = forecast.predicted_mean\n",
    "conf_int = forecast.conf_int()\n",
    "\n",
    "plt.figure(figsize=(12, 6))\n",
    "plt.plot(train_data.index, train_data, label='Training Data')\n",
    "plt.plot(test_data.index, test_data, label='Actual Data', color='green')\n",
    "plt.plot(forecast_values.index, forecast_values, label='Forecasted Data', color='red')\n",
    "plt.fill_between(conf_int.index, conf_int.iloc[:, 0], conf_int.iloc[:, 1], color='pink', alpha=0.3)\n",
    "plt.title('SARIMAX Forecast vs Actual')\n",
    "plt.xlabel('Date')\n",
    "plt.ylabel('Prix')\n",
    "plt.legend()\n",
    "plt.show()\n"
   ]
  },
  {
   "cell_type": "code",
   "execution_count": 29,
   "metadata": {},
   "outputs": [],
   "source": [
    "mse_sarimax = mean_squared_error(test_data, forecast_values)\n",
    "mae_sarimax = mean_absolute_error(test_data, forecast_values)\n",
    "rmse_sarimax = np.sqrt(mse_sarimax)"
   ]
  },
  {
   "cell_type": "markdown",
   "metadata": {},
   "source": [
    "-------------------------"
   ]
  },
  {
   "cell_type": "code",
   "execution_count": 30,
   "metadata": {},
   "outputs": [
    {
     "name": "stdout",
     "output_type": "stream",
     "text": [
      "\n",
      "Tableau récapitulatif des métriques pour tous les modèles :\n",
      "+---------------------+---------------------+---------------------+--------------------+\n",
      "|       Modèle        |        RMSE         |         MAE         |      R² Score      |\n",
      "+---------------------+---------------------+---------------------+--------------------+\n",
      "| Régression Linéaire | 22.747646109824945  | 18.758346164221564  | 0.9730208558778745 |\n",
      "|    Random Forest    | 1.9460263009998116  | 0.9838164675573485  | 0.9998025520391866 |\n",
      "|       XGBoost       | 0.9999591583518458  | 0.6826957043859587  | 0.9999478661538033 |\n",
      "|        Ridge        | 22.747661705801818  |  18.75848450574891  | 0.973020818883607  |\n",
      "|        Lasso        | 22.747371925371453  | 18.758126945179395  | 0.9730215062499851 |\n",
      "|    Decision Tree    |  7.792190368072995  | 4.2316017563001695  | 0.9968342665154001 |\n",
      "|       SARIMAX       | 0.20760787754004154 | 0.16345168773898144 |        nan         |\n",
      "+---------------------+---------------------+---------------------+--------------------+\n"
     ]
    }
   ],
   "source": [
    "# Compilation des métriques dans un DataFrame\n",
    "metrics = pd.DataFrame({\n",
    "    'Modèle': [\n",
    "        'Régression Linéaire', 'Random Forest', 'XGBoost', \n",
    "        'Ridge', 'Lasso', 'Decision Tree', 'SARIMAX'\n",
    "    ],\n",
    "    'RMSE': [rmse_lr, rmse_rf, rmse_xgb, rmse_ridge, rmse_lasso, rmse_dt, rmse_sarimax],\n",
    "    'MAE': [mae_lr, mae_rf, mae_xgb, mae_ridge, mae_lasso, mae_dt, mae_sarimax],\n",
    "    'R² Score': [r2_lr, r2_rf, r2_xgb, r2_ridge, r2_lasso, r2_dt, None]  # Si indisponible, mettre None\n",
    "})\n",
    "\n",
    "# Affichage du tableau avec tabulate\n",
    "print(\"\\nTableau récapitulatif des métriques pour tous les modèles :\")\n",
    "print(tabulate(metrics, headers='keys', tablefmt='pretty', showindex=False))\n"
   ]
  },
  {
   "cell_type": "code",
   "execution_count": null,
   "metadata": {},
   "outputs": [],
   "source": [
    "if not os.path.exists('../00 - Annexes/models'):\n",
    "    os.makedirs('../00 - Annexes/models')\n",
    "    \n",
    "directory = \"../00 - Annexes/models/\"\n",
    "\n",
    "\n",
    "# Sérialisation des modèles non compatibles avec le format HDF5 au format Pickle\n",
    "joblib.dump(model_lr, directory + 'model_lr.pkl')\n",
    "joblib.dump(model_rf, directory + 'model_rf.pkl')\n",
    "joblib.dump(model_xgb, directory + 'model_xgb.pkl')\n",
    "joblib.dump(model_ridge, directory + 'model_ridge.pkl')\n",
    "joblib.dump(model_lasso, directory + 'model_lasso.pkl')\n",
    "joblib.dump(model_dt, directory + 'model_dt.pkl')\n",
    "joblib.dump(model_fit, directory + 'model_sarimax.pkl') \n",
    "\n",
    "metrics.to_csv('../00 - Annexes/data_prepro/metrics_train.csv', index=False)"
   ]
  }
 ],
 "metadata": {
  "kernelspec": {
   "display_name": "rakuck",
   "language": "python",
   "name": "python3"
  },
  "language_info": {
   "codemirror_mode": {
    "name": "ipython",
    "version": 3
   },
   "file_extension": ".py",
   "mimetype": "text/x-python",
   "name": "python",
   "nbconvert_exporter": "python",
   "pygments_lexer": "ipython3",
   "version": "3.10.13"
  }
 },
 "nbformat": 4,
 "nbformat_minor": 2
}
